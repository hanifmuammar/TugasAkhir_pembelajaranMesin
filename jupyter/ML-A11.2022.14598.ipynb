{
 "cells": [
  {
   "cell_type": "code",
   "execution_count": null,
   "id": "a99967b7",
   "metadata": {},
   "outputs": [],
   "source": [
    "import pandas as pd\n",
    "from sklearn.model_selection import train_test_split\n",
    "from sklearn.feature_extraction.text import TfidfVectorizer\n",
    "from sklearn.linear_model import LogisticRegression\n",
    "from sklearn.metrics import accuracy_score\n",
    "import nltk\n",
    "from nltk.corpus import stopwords\n",
    "import string\n",
    "\n",
    "data_path = \"C:\\\\Users\\\\ASUS\\\\OneDrive\\\\Documents\\\\jupyter\\\\tatoeba_data.csv\"\n",
    "df = pd.read_csv(data_path)\n",
    "\n",
    "df.head()"
   ]
  },
  {
   "cell_type": "code",
   "execution_count": null,
   "id": "63dd3156",
   "metadata": {},
   "outputs": [],
   "source": [
    "nltk.download('stopwords')\n",
    "stop_words = set(stopwords.words('english'))\n",
    "\n",
    "def preprocess_text(text):\n",
    "    text = text.lower()\n",
    "    text = ''.join([char for char in text if char not in string.punctuation])\n",
    "    text = ' '.join([word for word in text.split() if word not in stop_words])\n",
    "    return text\n",
    "\n",
    "df['processed_sentence'] = df['Source sentence'].apply(preprocess_text)\n",
    "\n",
    "df.head()"
   ]
  },
  {
   "cell_type": "code",
   "execution_count": null,
   "id": "03b38abb",
   "metadata": {},
   "outputs": [],
   "source": [
    "X = df['processed_sentence']\n",
    "y = df['Target language']\n",
    "\n",
    "X_train, X_test, y_train, y_test = train_test_split(X, y, test_size=0.2, random_state=42)\n",
    "\n",
    "vectorizer = TfidfVectorizer()\n",
    "X_train_tfidf = vectorizer.fit_transform(X_train)\n",
    "X_test_tfidf = vectorizer.transform(X_test)\n",
    "\n",
    "model = LogisticRegression()\n",
    "model.fit(X_train_tfidf, y_train)"
   ]
  },
  {
   "cell_type": "code",
   "execution_count": null,
   "id": "75b02971",
   "metadata": {},
   "outputs": [],
   "source": [
    "y_pred = model.predict(X_test_tfidf)\n",
    "\n",
    "accuracy = accuracy_score(y_test, y_pred)\n",
    "print(f\"Accuracy: {accuracy * 100:.2f}%\")"
   ]
  },
  {
   "cell_type": "code",
   "execution_count": null,
   "id": "cb27dea4",
   "metadata": {},
   "outputs": [],
   "source": [
    "def predict_language(sentence):\n",
    "    processed_sentence = preprocess_text(sentence)\n",
    "    sentence_tfidf = vectorizer.transform([processed_sentence])\n",
    "    prediction = model.predict(sentence_tfidf)\n",
    "    return prediction[0]\n",
    "\n",
    "sentences_to_predict = [\n",
    "    \"wie al bist du\",\n",
    "    \"Je parle français\",\n",
    "    \"Wo ist die nächste Haltestelle?\",\n",
    "    \"What time is it?\",\n",
    "    \"La météo est agréable aujourd'hui\"\n",
    "]\n",
    "\n",
    "predictions = [predict_language(sentence) for sentence in sentences_to_predict]\n",
    "\n",
    "for sentence, lang in zip(sentences_to_predict, predictions):\n",
    "    print(f\"Kalimat: {sentence} -> Bahasa: {lang}\")"
   ]
  }
 ],
 "metadata": {
  "kernelspec": {
   "display_name": "Python 3 (ipykernel)",
   "language": "python",
   "name": "python3"
  },
  "language_info": {
   "codemirror_mode": {
    "name": "ipython",
    "version": 3
   },
   "file_extension": ".py",
   "mimetype": "text/x-python",
   "name": "python",
   "nbconvert_exporter": "python",
   "pygments_lexer": "ipython3",
   "version": "3.11.9"
  }
 },
 "nbformat": 4,
 "nbformat_minor": 5
}
